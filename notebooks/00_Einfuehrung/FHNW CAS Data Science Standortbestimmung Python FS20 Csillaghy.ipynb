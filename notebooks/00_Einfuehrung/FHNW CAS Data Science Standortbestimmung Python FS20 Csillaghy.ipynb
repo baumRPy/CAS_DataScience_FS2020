{
 "cells": [
  {
   "cell_type": "markdown",
   "metadata": {
    "deletable": false,
    "nbgrader": {
     "checksum": "48893cb8a104d4f802611ca66df5e4eb",
     "grade": false,
     "grade_id": "1",
     "locked": true,
     "solution": false
    }
   },
   "source": [
    "## CAS Data Science - Standortbestimmung in Python\n",
    "#### FHNW - HS2019\n",
    "\n",
    "Einige Beispiele mit dem Umgang von Python, Pandas und MatPlotLib werden aufgezeigt.\n",
    "Dieses Warm-Up sollte die Konzepte revidieren, die in den empfohlenen Dokumente im Voraus geschickt worden sind. "
   ]
  },
  {
   "cell_type": "code",
   "execution_count": null,
   "metadata": {
    "deletable": false,
    "nbgrader": {
     "checksum": "013fca0e3b4bc60a874d231dd049fc40",
     "grade": false,
     "grade_id": "2",
     "locked": true,
     "solution": false
    }
   },
   "outputs": [],
   "source": [
    "#Importieren von Libraries\n",
    "import numpy as np\n",
    "import pandas as pd\n",
    "import matplotlib.mlab as mlab\n",
    "import matplotlib.pyplot as plt\n",
    "import time\n",
    "from nose.tools import assert_equal"
   ]
  },
  {
   "cell_type": "markdown",
   "metadata": {},
   "source": [
    "#### Basics: Print-Funktion"
   ]
  },
  {
   "cell_type": "code",
   "execution_count": null,
   "metadata": {
    "deletable": false,
    "nbgrader": {
     "checksum": "dc0356dce42647886e47d038e0992e82",
     "grade": false,
     "grade_id": "3",
     "locked": true,
     "solution": false
    }
   },
   "outputs": [],
   "source": [
    "le_string = 'p,k,f,n,f,n,f,c,n,w,e,?,k,y,w,n,p,w,o,e,w,v,d'\n",
    "zahlen_als_liste = [1,2,3,4,5]\n",
    "sieben = 7"
   ]
  },
  {
   "cell_type": "code",
   "execution_count": null,
   "metadata": {
    "deletable": false,
    "nbgrader": {
     "checksum": "e08bfb7d2413e8d812e6d59fd8ce24b6",
     "grade": true,
     "grade_id": "4",
     "locked": false,
     "points": 1,
     "solution": true
    }
   },
   "outputs": [],
   "source": [
    "### BEGIN SOLUTION\n",
    "\n",
    "### END SOLUTION"
   ]
  },
  {
   "cell_type": "markdown",
   "metadata": {
    "deletable": false,
    "nbgrader": {
     "checksum": "658f217464fde4f31ae0b69e7cf3ce05",
     "grade": false,
     "grade_id": "5",
     "locked": true,
     "solution": false
    }
   },
   "source": [
    "#### Anwendung und Definition von Funktionen\n",
    "\n",
    "Führen Sie mittels einer for-Schleife die Fibonacci-Folge fort. Nutzen Sie dazu die range()-Funktion in der Schleifen-Deklaration und die append-Funktion um die Liste zu ergänzen. def definiert eine Funktion, welche Sie weiter unten ausführen können."
   ]
  },
  {
   "cell_type": "code",
   "execution_count": null,
   "metadata": {
    "deletable": false,
    "nbgrader": {
     "checksum": "d9f0dfc1dc2530fa22970aa897fd0c0f",
     "grade": false,
     "grade_id": "6",
     "locked": false,
     "solution": true
    }
   },
   "outputs": [],
   "source": [
    "def fibonacci(n):\n",
    "    sequence = [0,1]\n",
    "    ### BEGIN SOLUTION\n",
    "   \n",
    "    ### END SOLUTION\n",
    "    return sequence"
   ]
  },
  {
   "cell_type": "code",
   "execution_count": null,
   "metadata": {
    "deletable": false,
    "nbgrader": {
     "checksum": "0c07c6a12ebafc0b16c5253a3606349e",
     "grade": false,
     "grade_id": "7",
     "locked": true,
     "solution": false
    }
   },
   "outputs": [],
   "source": [
    "#Ausgabe ihrer Fibonacci-Funktion\n",
    "print(fibonacci(5))\n",
    "print(fibonacci(10))"
   ]
  },
  {
   "cell_type": "markdown",
   "metadata": {
    "nbgrader": {
     "grade": false,
     "grade_id": "999",
     "locked": true,
     "solution": false
    }
   },
   "source": [
    "In der nachfolgenden Zelle wird ihre Fibonacci-Funktion überprüft. Diese Tests werden auch beim submitten ihrer Aufgabe durchgeführt. Wenn die Tests fehlschlagen, dann ist ihre Lösung nicht korrekt."
   ]
  },
  {
   "cell_type": "code",
   "execution_count": null,
   "metadata": {
    "deletable": false,
    "nbgrader": {
     "checksum": "c66a4332cce9d30ce94d234c40095991",
     "grade": true,
     "grade_id": "8",
     "locked": true,
     "points": 1,
     "solution": false
    }
   },
   "outputs": [],
   "source": [
    "assert_equal(fibonacci(5),[0, 1, 1, 2, 3])\n",
    "assert_equal(fibonacci(10),[0, 1, 1, 2, 3, 5, 8, 13, 21, 34])"
   ]
  },
  {
   "cell_type": "markdown",
   "metadata": {
    "nbgrader": {
     "grade": false,
     "grade_id": "998",
     "locked": true,
     "solution": false
    }
   },
   "source": [
    "#### Listen\n",
    "\n",
    "Listen müssen nicht den gleichen Datentyp beinhalten. Sie können auf Listen ähnliche Zugriffe wie auf NumPy Arrays durchführen."
   ]
  },
  {
   "cell_type": "code",
   "execution_count": null,
   "metadata": {
    "deletable": false,
    "nbgrader": {
     "checksum": "e55a1cbf4ad97d320fd276edb705900f",
     "grade": false,
     "grade_id": "9",
     "locked": true,
     "solution": false
    }
   },
   "outputs": [],
   "source": [
    "mixed_list = ['a', 1, 2.3, True, [1, 'b']]\n",
    "print(mixed_list)"
   ]
  },
  {
   "cell_type": "code",
   "execution_count": null,
   "metadata": {
    "deletable": false,
    "nbgrader": {
     "checksum": "8bc3573c443b07168b793316ad68161a",
     "grade": false,
     "grade_id": "10",
     "locked": false,
     "solution": true
    }
   },
   "outputs": [],
   "source": [
    "#Nutzen Sie die Slice-Notation, seq[start:stop], um die Elemente mit den Indizes 3-5 (resultat1), \n",
    "#sowie jedes zweite (die ungraden) Element (resultat2) des Objektes die_liste zu erhalten.\n",
    "#Geben Sie diese beiden Resultate als Tupel (resultat1, resultat2) zurück.\n",
    "def show_slice():\n",
    "    die_liste = le_string.split(',')\n",
    "    ### BEGIN SOLUTION\n",
    "    \n",
    "    ### END SOLUTION\n",
    "    return (resultat1, resultat2)   "
   ]
  },
  {
   "cell_type": "code",
   "execution_count": null,
   "metadata": {
    "deletable": false,
    "nbgrader": {
     "checksum": "297fbd96b44b5451fee15e265aa87201",
     "grade": false,
     "grade_id": "11",
     "locked": true,
     "solution": false
    }
   },
   "outputs": [],
   "source": [
    "print(show_slice())"
   ]
  },
  {
   "cell_type": "code",
   "execution_count": null,
   "metadata": {
    "deletable": false,
    "nbgrader": {
     "checksum": "2fb35cbaebf87b7d8a49cf398c299fd6",
     "grade": true,
     "grade_id": "12",
     "locked": true,
     "points": 1,
     "solution": false
    }
   },
   "outputs": [],
   "source": [
    "# Hier prüfen wir wieder ihre Implementation der show_slice Funktion\n",
    "res1, res2 = show_slice()\n",
    "assert_equal(res1,['n', 'f'])\n",
    "assert_equal(res2, ['k', 'n', 'n', 'c', 'w', '?', 'y', 'n', 'w', 'e', 'v'])"
   ]
  },
  {
   "cell_type": "markdown",
   "metadata": {
    "nbgrader": {
     "grade": false,
     "grade_id": "996",
     "locked": true,
     "solution": false
    }
   },
   "source": [
    "#### Dictionaries\n",
    "\n",
    "Dictionaries sind auch bekannt als  \"mappings\" oder \"associative arrays.\" Erstellt werden sie mit {}-Klammern."
   ]
  },
  {
   "cell_type": "code",
   "execution_count": null,
   "metadata": {
    "deletable": false,
    "nbgrader": {
     "checksum": "773ef2de1ae35c0c6aae35a21f2a1a2a",
     "grade": false,
     "grade_id": "13",
     "locked": true,
     "solution": false
    }
   },
   "outputs": [],
   "source": [
    "# Erstellen eines Dictionary\n",
    "ages = {\"Rick\": 46, \"Bob\": 86, \"Fred\": 21}\n",
    "for name in ages:\n",
    "    print(name,\" ist \",ages[name],\" alt.\")"
   ]
  },
  {
   "cell_type": "code",
   "execution_count": null,
   "metadata": {
    "deletable": false,
    "nbgrader": {
     "checksum": "3614583e320b87e3a7c770f5f6141bc9",
     "grade": true,
     "grade_id": "14",
     "locked": false,
     "points": 1,
     "solution": true
    }
   },
   "outputs": [],
   "source": [
    "#Benutzen Sie die len() Funktion um die Länge des Dictionaries 'ages' und des Strings 'le_string' auszugeben.\n",
    "### BEGIN SOLUTION\n",
    "\n",
    "### END SOLUTION"
   ]
  },
  {
   "cell_type": "markdown",
   "metadata": {
    "nbgrader": {
     "grade": false,
     "grade_id": "994",
     "locked": true,
     "solution": false
    }
   },
   "source": [
    "#### Plotting-Funktionen\n",
    "\n",
    "Nun schauen wir uns ein einfaches Beispiel eines Plots an."
   ]
  },
  {
   "cell_type": "code",
   "execution_count": null,
   "metadata": {
    "deletable": false,
    "nbgrader": {
     "checksum": "55b7aa85b4bdced174248490b43fb369",
     "grade": false,
     "grade_id": "15",
     "locked": true,
     "solution": false
    }
   },
   "outputs": [],
   "source": [
    "#Mittels matplotlib können Sie sehr einfach Plots generieren.\n",
    "#Der folgende Plot visualisiert den Anstieg der Fibonacci-Folge gegenüber n!, der Fakultät.\n",
    "\n",
    "x = np.arange(10)\n",
    "facts = [1]\n",
    "for i in x[0:-1]+1:\n",
    "    facts.append( i * facts[i-1])\n",
    "    \n",
    "fibs = fibonacci(10)\n",
    "\n",
    "print(x)\n",
    "print(facts)\n",
    "print(fibs)\n",
    "\n",
    "plt.plot(x,facts,label=\"factorial\")\n",
    "plt.plot(x,fibs,label=\"Fibonacci\")\n",
    "plt.xlabel(\"n\")\n",
    "plt.legend()"
   ]
  },
  {
   "cell_type": "markdown",
   "metadata": {
    "deletable": false,
    "nbgrader": {
     "checksum": "d145bb95ef24686efb79d72dfc2c8591",
     "grade": false,
     "grade_id": "16",
     "locked": true,
     "solution": false
    }
   },
   "source": [
    "Plotten Sie dasselbe Resultat, aber mit einer logarithmischen Skala."
   ]
  },
  {
   "cell_type": "code",
   "execution_count": null,
   "metadata": {
    "deletable": false,
    "nbgrader": {
     "checksum": "eeeea6eb8b77a935b51b4f81d8e23a56",
     "grade": true,
     "grade_id": "17",
     "locked": false,
     "points": 1,
     "solution": true
    }
   },
   "outputs": [],
   "source": [
    "### BEGIN SOLUTION\n",
    "\n",
    "### END SOLUTION"
   ]
  },
  {
   "cell_type": "markdown",
   "metadata": {
    "nbgrader": {
     "grade": false,
     "grade_id": "993",
     "locked": true,
     "solution": false
    }
   },
   "source": [
    "#### Numpy\n",
    "\n",
    "Numpy-Arrays haben bereits viele Funktionen vordefiniert und sind mächtige Werkzeuge im Umgang mit Matrizen.\n",
    "Sie sind extrem Speicheroptimiert und arbeiten vektor-basiert, wie Sie hier sehen:"
   ]
  },
  {
   "cell_type": "code",
   "execution_count": null,
   "metadata": {
    "deletable": false,
    "nbgrader": {
     "checksum": "d014b995495fa08bbf903885f9c61b3b",
     "grade": false,
     "grade_id": "18",
     "locked": true,
     "solution": false
    }
   },
   "outputs": [],
   "source": [
    "# NumPy Beispiele\n",
    "A = np.ones((3,3))\n",
    "B = np.array([[2,2,2],[2,2,2],[2,2,2]])\n",
    "print(A)\n",
    "print(B)\n",
    "print(A+B)\n",
    "print(A*B)          #Skalar und keine Matrix-Multiplikation\n",
    "print(np.dot(A, B)) # Matrix-Multiplikation\n",
    "print(27*A)"
   ]
  },
  {
   "cell_type": "markdown",
   "metadata": {
    "deletable": false,
    "nbgrader": {
     "checksum": "75d7ed7e939414e2d05037a5afe1ef6b",
     "grade": false,
     "grade_id": "24",
     "locked": true,
     "solution": false
    }
   },
   "source": [
    "Berechnen Sie element-weise die Matrix P^Q, also so dass P[0]^Q[0], P[1]^Q[1], ...usw, nur mit den Funktionalitäten von NumPy-Arrays, also ohne einen Loop zu schreiben."
   ]
  },
  {
   "cell_type": "code",
   "execution_count": null,
   "metadata": {
    "deletable": false,
    "nbgrader": {
     "checksum": "ac00ad69c8c8a528b6f2b504b9d143ea",
     "grade": true,
     "grade_id": "25",
     "locked": false,
     "points": 1,
     "solution": true
    }
   },
   "outputs": [],
   "source": [
    "P = np.arange(6).reshape(2,3)\n",
    "Q = np.arange(6).reshape(2,3)\n",
    "### BEGIN SOLUTION\n",
    "\n",
    "### END SOLUTION\n",
    "print(P)"
   ]
  },
  {
   "cell_type": "markdown",
   "metadata": {},
   "source": [
    "Filtern Sie alle Elemente aus dem Array big, welche grösser als 2 sind, ohne eine Schleife zu verwenden.<br>Hint: Boolean array indexing"
   ]
  },
  {
   "cell_type": "code",
   "execution_count": null,
   "metadata": {
    "deletable": false,
    "nbgrader": {
     "checksum": "45dffbe9ba6a5a33505feb32bc657a4d",
     "grade": false,
     "grade_id": "21",
     "locked": true,
     "solution": false
    },
    "scrolled": true
   },
   "outputs": [],
   "source": [
    "big = np.linspace(1, 10) #Gleichmässige Verteilung zwischen 1 und 10\n",
    "print(big)"
   ]
  },
  {
   "cell_type": "code",
   "execution_count": null,
   "metadata": {
    "deletable": false,
    "nbgrader": {
     "checksum": "6634eb7a3c2c0127350a2117eb553e03",
     "grade": true,
     "grade_id": "22",
     "locked": false,
     "points": 1,
     "solution": true
    },
    "scrolled": true
   },
   "outputs": [],
   "source": [
    "bool_idx = (big > 2)\n",
    "### BEGIN SOLUTION\n",
    "\n",
    "### END SOLUTION"
   ]
  },
  {
   "cell_type": "markdown",
   "metadata": {
    "deletable": false,
    "nbgrader": {
     "checksum": "f96ce4a2af99f3c1378a28738d4a78f5",
     "grade": false,
     "grade_id": "27",
     "locked": true,
     "solution": false
    }
   },
   "source": [
    "#### Pandas\n",
    "\n",
    "Nachfolgend wird die Histogramm Funktion mittels eines Random Arrays gezeigt: np.random.normal() - Der Input dieser Funktion ist mean, std und die Anzahl Elemente\n",
    "\n",
    "Mittels Pandas können auch numpy arrays manipuliert werden. Fügen sie in einem Pandas Dataframe einen numpy array ein, der gleichverteilte Daten enthält.\n"
   ]
  },
  {
   "cell_type": "code",
   "execution_count": null,
   "metadata": {
    "deletable": false,
    "nbgrader": {
     "checksum": "2f3a9ac818375fe57105d746035e6c51",
     "grade": false,
     "grade_id": "19",
     "locked": true,
     "solution": false
    }
   },
   "outputs": [],
   "source": [
    "#ANFANG LÖSUNG\n",
    "\n",
    "#ENDE LÖSUNG\n",
    "\n",
    "# mit Pandas kann man leicht die Verteilung kontrollieren: \n",
    "myDf.describe()"
   ]
  },
  {
   "cell_type": "markdown",
   "metadata": {},
   "source": [
    "Zeigen Sie jetzt ein Histogramm der Werte in Ihr Array: "
   ]
  },
  {
   "cell_type": "code",
   "execution_count": null,
   "metadata": {},
   "outputs": [],
   "source": [
    "#ANFANG LÖSUNG\n",
    "\n",
    "#ENDE LÖSUNG"
   ]
  },
  {
   "cell_type": "markdown",
   "metadata": {
    "deletable": false,
    "nbgrader": {
     "checksum": "e0558463375d939d42839d95cf5a575e",
     "grade": false,
     "grade_id": "20",
     "locked": true,
     "solution": false
    }
   },
   "source": []
  },
  {
   "cell_type": "markdown",
   "metadata": {
    "deletable": false,
    "nbgrader": {
     "checksum": "3dbb459801743229d0f8293d02ccd7a6",
     "grade": false,
     "grade_id": "23",
     "locked": true,
     "solution": false
    }
   },
   "source": [
    "Wenn Sie weitere Tutorials und Informationen suchen, dann werden Sie im Internet fündig. Einige gute Beispiele: <br>\n",
    "http://nbviewer.jupyter.org/github/gumption/Python_for_Data_Science/blob/master/Python_for_Data_Science_all.ipynb <br>\n",
    "http://nbviewer.jupyter.org/gist/rpmuller/5920182"
   ]
  },
  {
   "cell_type": "code",
   "execution_count": null,
   "metadata": {
    "deletable": false,
    "nbgrader": {
     "checksum": "bac6e818c30d3ca00e1c10e421c9cee3",
     "grade": false,
     "grade_id": "99",
     "locked": true,
     "solution": false
    }
   },
   "outputs": [],
   "source": []
  },
  {
   "cell_type": "markdown",
   "metadata": {
    "deletable": false,
    "nbgrader": {
     "checksum": "4178f5190151f5620d6ba09848f7710e",
     "grade": false,
     "grade_id": "26",
     "locked": false,
     "points": 1,
     "solution": false
    }
   },
   "source": []
  }
 ],
 "metadata": {
  "celltoolbar": "Raw Cell Format",
  "kernelspec": {
   "display_name": "Python 3",
   "language": "python",
   "name": "python3"
  },
  "language_info": {
   "codemirror_mode": {
    "name": "ipython",
    "version": 3
   },
   "file_extension": ".py",
   "mimetype": "text/x-python",
   "name": "python",
   "nbconvert_exporter": "python",
   "pygments_lexer": "ipython3",
   "version": "3.7.4"
  }
 },
 "nbformat": 4,
 "nbformat_minor": 1
}
