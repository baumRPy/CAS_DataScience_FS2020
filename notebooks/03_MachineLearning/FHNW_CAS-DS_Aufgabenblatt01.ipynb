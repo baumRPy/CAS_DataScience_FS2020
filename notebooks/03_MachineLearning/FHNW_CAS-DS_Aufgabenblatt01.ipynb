{
 "cells": [
  {
   "cell_type": "markdown",
   "metadata": {},
   "source": [
    "# CAS Data Science\n",
    "## Machine Learning - Aufgabenblatt 1"
   ]
  },
  {
   "cell_type": "markdown",
   "metadata": {},
   "source": [
    "### Aufgabe 1\n",
    "\n",
    "Ergänzen Sie die folgende Funktion so, dass sie ein `numpy`-array / eine Matrix der Art\n",
    "\n",
    "$\\mathbf{X} =\n",
    "\\begin{bmatrix}\n",
    "11 & 12 & 13 & 14 & 15 \\\\\n",
    "21 & 22 & 23 & 24 & 25 \\\\\n",
    "31 & 32 & 33 & 34 & 35 \\\\\n",
    "41 & 42 & 43 & 44 & 45 \\\\\n",
    "51 & 52 & 53 & 54 & 55 \\\\\n",
    "\\end{bmatrix}\n",
    "$\n",
    "\n",
    "für beliebige Matrizen $\\mathbf{X_{ij}}$ mit $i \\in (1, .., m)$ und $j \\in (1, .., n)$ für $0 < m, n < 10$ zurückgibt."
   ]
  },
  {
   "cell_type": "code",
   "execution_count": 1,
   "metadata": {},
   "outputs": [],
   "source": [
    "def index_matrix(m, n):\n",
    "    '''\n",
    "    Returns a m x n matrix with values corresponding to the matrix indices.\n",
    "    \n",
    "    Arguments\n",
    "    `````````\n",
    "    m : int, 0 < m < 10\n",
    "    n : int, 0 < n < 10\n",
    "\n",
    "    '''\n",
    "    assert(type(n) == int)\n",
    "    assert(n > 0)\n",
    "    assert(n < 10)\n",
    "    assert(type(m) == int)\n",
    "    assert(m > 0)\n",
    "    assert(m < 10)\n",
    "    \n",
    "    ### ENTER YOUR CODE HERE\n",
    "    \n",
    "    return X"
   ]
  },
  {
   "cell_type": "markdown",
   "metadata": {},
   "source": [
    "### Aufgabe 2\n",
    "\n",
    "Ergänzen Sie die folgenden beiden Funktionen so, dass sie von einer Input-Matrix $\\mathbf{X}$ jeweils die i-te Reihe oder die j-te Spalte zurückgeben."
   ]
  },
  {
   "cell_type": "code",
   "execution_count": 2,
   "metadata": {},
   "outputs": [],
   "source": [
    "def ith_row(X, i):\n",
    "    '''\n",
    "    Returns the i-th row of a 2-dimensional input matrix X.\n",
    "    '''\n",
    "    \n",
    "    # check that input X is a numpy array\n",
    "    assert(type(X) == np.ndarray)\n",
    "    # check that input matrix is indeed 2 dimensional\n",
    "    assert(len(X.squeeze().shape) == 2)\n",
    "    \n",
    "    ### ENTER YOUR CODE HERE\n",
    "    \n",
    "    return row\n",
    "\n",
    "\n",
    "\n",
    "def jth_column(X, j):\n",
    "    '''\n",
    "    Returns the j-th column of a 2-dimensional input matrix X.\n",
    "    '''\n",
    "   \n",
    "    # check that input X is a numpy array\n",
    "    assert(type(X) == np.ndarray)\n",
    "    # check that input matrix is indeed 2 dimensional\n",
    "    assert(len(X.squeeze().shape) == 2)\n",
    "    \n",
    "    ### ENTER YOUR CODE HERE\n",
    "    \n",
    "    return col"
   ]
  },
  {
   "cell_type": "markdown",
   "metadata": {},
   "source": [
    "### Aufgabe 3\n",
    "Ergänzen Sie die folgende Funktion so, dass sie von einer Daten-Matrix $\\mathbf{X}^{(i)}_j$ den Mittelwert sämtlicher *Features* zurückgibt.  \n",
    "\n",
    "Erzeugen Sie in einem einfachen Bespiel ein `numpy array` und zeigen Sie damit dass Ihre Funktion stimmt."
   ]
  },
  {
   "cell_type": "code",
   "execution_count": 3,
   "metadata": {},
   "outputs": [],
   "source": [
    "def feature_means(X):\n",
    "    '''\n",
    "    Returns the mean values of all features for the data matrix X.\n",
    "    '''\n",
    "    ### ENTER YOUR CODE HERE\n",
    "    \n",
    "    return means"
   ]
  },
  {
   "cell_type": "markdown",
   "metadata": {},
   "source": [
    "### Aufgabe 4\n",
    "Ergänzen Sie die folgende Funktion nun so, dass von einer Daten-Matrix $\\mathbf{X}$ der Mittelwert sämtlicher Features subtrahiert wird. Teilen Sie anschliessend die Features durch ihre Standardabweichung. Geben Sie die zentrierten Daten, die Mittelwerte und die Standardabweichung zurück.\n",
    "\n",
    "Zeigen Sie dass ihre Funktion stimmt."
   ]
  },
  {
   "cell_type": "code",
   "execution_count": 4,
   "metadata": {},
   "outputs": [],
   "source": [
    "def standardize_data(X):\n",
    "    '''\n",
    "    Returns a matrix Y with subtracted means and normalized standard deviation along features, ie columns.\n",
    "    '''\n",
    "    \n",
    "    ### ENTER YOUR CODE HERE\n",
    "    \n",
    "    \n",
    "    return Y, means, std"
   ]
  },
  {
   "cell_type": "markdown",
   "metadata": {},
   "source": [
    "### Aufgabe 5\n",
    "Erzeugen Sie mit Hilfe der `numpy`-Funktion `np.random.randint` zwei Arrays mit zufälligen ganzzahligen Elementen im Intervall $[-9, 9]$ von parametrisierbarer Grösse und verifizieren sie die Matrizen-Rechenregel\n",
    "$\n",
    "(AB)^T = B^TA^T\n",
    "$"
   ]
  },
  {
   "cell_type": "code",
   "execution_count": 5,
   "metadata": {},
   "outputs": [],
   "source": [
    "### ENTER YOUR CODE HERE"
   ]
  },
  {
   "cell_type": "markdown",
   "metadata": {},
   "source": [
    "### Aufgabe 6\n",
    "\n",
    "Laden sie den `diabetes_data.csv` Datensatz und visualisieren Sie diesen.  \n",
    "\n",
    "Geben Sie die Mittelwerte, Standardabweichungen, den Median und die Quantile der verschiedenen Variablen aus.\n",
    "\n",
    "Beschreiben Sie den Datensatz mit Worten."
   ]
  },
  {
   "cell_type": "code",
   "execution_count": 6,
   "metadata": {},
   "outputs": [],
   "source": [
    "### ENTER YOUR CODE HERE"
   ]
  },
  {
   "cell_type": "markdown",
   "metadata": {},
   "source": []
  },
  {
   "cell_type": "markdown",
   "metadata": {},
   "source": [
    "### Aufgabe 7\n",
    "Laden Sie den Datensatz `haushaltsstruktur_zuerich.csv`.  \n",
    "\n",
    "Verwenden Sie `pandas`-Funktionalität um entlang verschiedener kategorischer Variablen zu aggregieren. Stellen Sie das Resultat grafisch dar und beschreiben Sie die Aussage die damit machen können."
   ]
  },
  {
   "cell_type": "code",
   "execution_count": 7,
   "metadata": {},
   "outputs": [],
   "source": [
    "### ENTER YOUR CODE HERE"
   ]
  },
  {
   "cell_type": "markdown",
   "metadata": {},
   "source": []
  },
  {
   "cell_type": "markdown",
   "metadata": {},
   "source": [
    "### Aufgabe 8\n",
    "\n",
    "Laden Sie einen der weiteren Datensätze und verschaffen Sie sich eine Überblick über dessen Inhalt.  \n",
    "\n",
    "Beschreiben Sie dessen Inhalt."
   ]
  },
  {
   "cell_type": "code",
   "execution_count": null,
   "metadata": {},
   "outputs": [],
   "source": [
    "### ENTER YOUR CODE HERE"
   ]
  },
  {
   "cell_type": "markdown",
   "metadata": {},
   "source": []
  },
  {
   "cell_type": "code",
   "execution_count": null,
   "metadata": {},
   "outputs": [],
   "source": []
  }
 ],
 "metadata": {
  "kernelspec": {
   "display_name": "Python 3",
   "language": "python",
   "name": "python3"
  },
  "language_info": {
   "codemirror_mode": {
    "name": "ipython",
    "version": 3
   },
   "file_extension": ".py",
   "mimetype": "text/x-python",
   "name": "python",
   "nbconvert_exporter": "python",
   "pygments_lexer": "ipython3",
   "version": "3.7.6"
  }
 },
 "nbformat": 4,
 "nbformat_minor": 2
}
