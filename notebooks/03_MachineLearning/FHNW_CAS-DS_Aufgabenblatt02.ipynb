{
 "cells": [
  {
   "cell_type": "markdown",
   "metadata": {},
   "source": [
    "# CAS Data Science\n",
    "## Machine Learning - Aufgabenblatt 2"
   ]
  },
  {
   "cell_type": "markdown",
   "metadata": {},
   "source": [
    "### Aufgabe 1\n",
    "\n",
    "Laden Sie den Datensatz `diabetes_data.csv` und visualisieren Sie diesen.\n",
    "\n",
    "Bilden Sie ein `numpy array` sämtlicher quantitativer Variablen ausser `Y` und kodieren Sie die kategorischen Variablen mit *One-Hot-Encoding*."
   ]
  },
  {
   "cell_type": "code",
   "execution_count": 1,
   "metadata": {},
   "outputs": [],
   "source": [
    "### ENTER YOUR CODE HERE"
   ]
  },
  {
   "cell_type": "markdown",
   "metadata": {},
   "source": [
    "### Aufgabe 2\n",
    "\n",
    "Zeichnen Sie mit `matplotlib` Histogramme sämtlicher quantitativer Variablen.  \n",
    "\n",
    "Was ist eine gute Anzahl *bins*?"
   ]
  },
  {
   "cell_type": "code",
   "execution_count": 2,
   "metadata": {},
   "outputs": [],
   "source": [
    "### ENTER YOUR CODE HERE"
   ]
  },
  {
   "cell_type": "markdown",
   "metadata": {},
   "source": [
    "### Aufgabe 3\n",
    "\n",
    "Unterteilen Sie den Datensatz in *training* und *test set* im Verhältnis 80:20."
   ]
  },
  {
   "cell_type": "code",
   "execution_count": 3,
   "metadata": {},
   "outputs": [],
   "source": [
    "### ENTER YOUR CODE HERE"
   ]
  },
  {
   "cell_type": "markdown",
   "metadata": {},
   "source": [
    "### Aufgabe 4\n",
    "\n",
    "Erstellen Sie eine lineare Regression mit `scikit-learn` um `Y` mit Hilfe der anderen Variablen abzuschätzen.  \n",
    "\n",
    "Was für einen Wert für $R^2$ können Sie erzielen? Was bedeutet dieser Wert?"
   ]
  },
  {
   "cell_type": "code",
   "execution_count": 4,
   "metadata": {},
   "outputs": [],
   "source": [
    "### ENTER YOUR CODE HERE"
   ]
  },
  {
   "cell_type": "markdown",
   "metadata": {},
   "source": [
    "### Aufgabe 5\n",
    "\n",
    "Erzeugen sie einen Tukey-Ascombe-Plot für das gefundene Model mit dem `training set`.  \n",
    "\n",
    "Wie interpretieren sie diesen?"
   ]
  },
  {
   "cell_type": "code",
   "execution_count": 5,
   "metadata": {},
   "outputs": [],
   "source": [
    "### ENTER YOUR CODE HERE"
   ]
  },
  {
   "cell_type": "markdown",
   "metadata": {},
   "source": [
    "### Aufgabe 6\n",
    "\n",
    "Fügen Sie nun neue Features der quantitativen Variablen durch Polynom-Transformation 2. Grades dem Datensatz hinzu. Standardisieren Sie den Datensatz anschliessend."
   ]
  },
  {
   "cell_type": "code",
   "execution_count": 6,
   "metadata": {},
   "outputs": [],
   "source": [
    "### ENTER YOUR CODE HERE"
   ]
  },
  {
   "cell_type": "markdown",
   "metadata": {},
   "source": [
    "### Aufgabe 7\n",
    "\n",
    "Erstellen Sie nun mit dem erweiterten *Input* mit *Ridge Regression* und dem *Lasso* je eine *Validation Curve* (5-fold *Cross Validation*).  \n",
    "\n",
    "Wo liegt die optimale Regularisierungsstärke in den beiden Fällen?\n",
    "Berechnen Sie auf dem 'test set' den erreichten Wert für $R^2$. \n",
    "\n",
    "Weswegen haben wir den Datensatz zuvor standardisiert?"
   ]
  },
  {
   "cell_type": "code",
   "execution_count": 7,
   "metadata": {},
   "outputs": [],
   "source": [
    "### ENTER YOUR CODE HERE"
   ]
  },
  {
   "cell_type": "markdown",
   "metadata": {},
   "source": [
    "### Aufgabe 8\n",
    "\n",
    "Erstellen Sie mit diesem Datensatz nun noch den *Lasso*-Koeffizentenpfad. Zeichnen Sie den Ort der optimalen Regularisierungsstärke in den Plot.\n",
    "\n",
    "Welche Variablen sind an dieser Stelle 'aktiv'?"
   ]
  },
  {
   "cell_type": "code",
   "execution_count": 8,
   "metadata": {},
   "outputs": [],
   "source": [
    "### ENTER YOUR CODE HERE"
   ]
  }
 ],
 "metadata": {
  "kernelspec": {
   "display_name": "Python 3",
   "language": "python",
   "name": "python3"
  },
  "language_info": {
   "codemirror_mode": {
    "name": "ipython",
    "version": 3
   },
   "file_extension": ".py",
   "mimetype": "text/x-python",
   "name": "python",
   "nbconvert_exporter": "python",
   "pygments_lexer": "ipython3",
   "version": "3.7.3"
  }
 },
 "nbformat": 4,
 "nbformat_minor": 2
}
