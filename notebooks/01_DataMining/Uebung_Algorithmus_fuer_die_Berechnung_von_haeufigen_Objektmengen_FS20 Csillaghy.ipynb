{
 "cells": [
  {
   "cell_type": "markdown",
   "metadata": {
    "nbgrader": {
     "grade": false,
     "grade_id": "2",
     "locked": true,
     "solution": false
    }
   },
   "source": [
    "# CAS Data Science - Frequent Itemsets\n",
    "\n",
    "### A.Csillaghy, CAS Data Science FS 2020\n",
    "\n",
    "In dieser Übung programmieren Sie einen Algorithmus, um häufige Objektmengen zu finden. \n",
    "\n",
    "Der einzige Eingabe-Parameter des Algorithmus ist das Minimum Support minsup, das die Schwelle bestimmt, ab welche Häufigkeit eine Objektmenge häufig ist. "
   ]
  },
  {
   "cell_type": "markdown",
   "metadata": {},
   "source": [
    "Zuerst importieren wir einige Bibliotheken: "
   ]
  },
  {
   "cell_type": "code",
   "execution_count": 1,
   "metadata": {
    "nbgrader": {
     "grade": false,
     "grade_id": "4",
     "locked": true,
     "solution": false
    }
   },
   "outputs": [],
   "source": [
    "import numpy as np\n",
    "import matplotlib.mlab as mlab\n",
    "import matplotlib.pyplot as plt\n",
    "from collections import defaultdict\n",
    "import glob, os\n",
    "import math\n",
    "import bisect\n",
    "import unittest\n",
    "from datetime import datetime\n",
    "import pandas as pd\n",
    "import re"
   ]
  },
  {
   "cell_type": "markdown",
   "metadata": {
    "nbgrader": {
     "grade": false,
     "grade_id": "5",
     "locked": true,
     "solution": false
    }
   },
   "source": [
    "Dann definieren wir einige Sachen, die Ihre Arbeit vereinfachen sollte: WordBasket und readQueries\n",
    "\n",
    "* Die Klasse WordBasket hält einzelne Worte einer Internet-Suchabfrage als Liste und Set. \n",
    "* Mittels der Funktion containsAll kann geprüft werden, ob ein WordBasket ein Subset eines anderen WordBaskets ist. Die Klasse kann entweder mit einem Argument (eine Liste von Worten) oder mit zwei Argumenten (zwei WordBaskets, welche zu mergen sind) erstellt werden. <br>\n",
    "* readQueries liest eine bestimmte Anzahl an Internet-Suchabfragen ein."
   ]
  },
  {
   "cell_type": "code",
   "execution_count": 2,
   "metadata": {
    "nbgrader": {
     "grade": false,
     "grade_id": "6",
     "locked": true,
     "solution": false
    }
   },
   "outputs": [],
   "source": [
    "class WordBasket :\n",
    "    \"\"\" Simple class which represents a word basket. \"\"\"\n",
    "    \n",
    "    def __init__(self, _words, merge=None) :\n",
    "\n",
    "        # init words\n",
    "        self.words = []\n",
    "        self.words_set = set()\n",
    "        \n",
    "        if merge is None:\n",
    "            # init words\n",
    "            self.words = _words\n",
    "        else:\n",
    "            # init word out of two WordBaskets\n",
    "            self.words = _words.words + merge.words\n",
    "            \n",
    "        self.words_set = set(self.words)\n",
    "            \n",
    "    def containsAll(self, wordBasket):\n",
    "        return wordBasket.words_set.issubset(self.words_set)\n",
    "        \n",
    "        \n",
    "def readQueries (limit, listoflist=False ) :\n",
    "    \"\"\" Function which reads the queries and returns a list of wordbaskets \"\"\" \n",
    "\n",
    "    i = 0\n",
    "    queries = []\n",
    "    \n",
    "    # read file and create a wordbasket for each query\n",
    "    with open(\"queries.txt\") as f:\n",
    "        for line in f:\n",
    "            # check if limit is reached\n",
    "            if i == limit: break\n",
    "            i+=1\n",
    "            \n",
    "            # split the query to a list of words\n",
    "            if listoflist == False: \n",
    "                line = line.rstrip()\n",
    "                tmp = line.split(\" \")\n",
    "                queries.append(WordBasket(tmp))\n",
    "            else:\n",
    "                queries.append( re.sub(\"[^\\w]\", \" \", line ).split() )\n",
    "            \n",
    "    # return a list of word baskets\n",
    "    return queries"
   ]
  },
  {
   "cell_type": "markdown",
   "metadata": {
    "nbgrader": {
     "grade": false,
     "grade_id": "7",
     "locked": true,
     "solution": false
    }
   },
   "source": [
    "Es werden 100 Queries eingelesen und in userem oben definierten WordBasket gespeichert.  \n",
    "Die ersten 5 werden angezeigt:"
   ]
  },
  {
   "cell_type": "code",
   "execution_count": 3,
   "metadata": {
    "nbgrader": {
     "grade": false,
     "grade_id": "8",
     "locked": true,
     "solution": false
    }
   },
   "outputs": [
    {
     "name": "stdout",
     "output_type": "stream",
     "text": [
      "['verizon', 'wireless']\n",
      "['zip', 'codes']\n",
      "['baby', 'center']\n",
      "['people', 'search']\n",
      "['national', 'car', 'rental']\n",
      "['home', 'depot']\n"
     ]
    }
   ],
   "source": [
    "queries = readQueries(10)\n",
    "for i in range(6):\n",
    "   print(queries[i].words)"
   ]
  },
  {
   "cell_type": "code",
   "execution_count": 4,
   "metadata": {},
   "outputs": [
    {
     "data": {
      "text/plain": [
       "[<__main__.WordBasket at 0x7fc9c1910c50>,\n",
       " <__main__.WordBasket at 0x7fc9b0c96550>,\n",
       " <__main__.WordBasket at 0x7fc9b0c96690>,\n",
       " <__main__.WordBasket at 0x7fc9b0c96850>,\n",
       " <__main__.WordBasket at 0x7fc9b0c96910>,\n",
       " <__main__.WordBasket at 0x7fc9b0c96c90>,\n",
       " <__main__.WordBasket at 0x7fc9b0c96d50>,\n",
       " <__main__.WordBasket at 0x7fc9b0c96e50>,\n",
       " <__main__.WordBasket at 0x7fc9b0c96f90>,\n",
       " <__main__.WordBasket at 0x7fc9b0c96f10>]"
      ]
     },
     "execution_count": 4,
     "metadata": {},
     "output_type": "execute_result"
    }
   ],
   "source": [
    "queries"
   ]
  },
  {
   "cell_type": "markdown",
   "metadata": {
    "nbgrader": {
     "grade": false,
     "grade_id": "9",
     "locked": true,
     "solution": false
    }
   },
   "source": [
    "Programmieren Sie die Funktion doFrequentItemsetsAnalysis.Sie soll alle Frequent Item Sets der Länge 1 bis maxItemsetSize, welche genügend Support (minSupport) haben, berechnen.\n",
    "\n",
    "Hinweis für die Entwicklung: A-Priori Algorithm\n",
    "\n",
    "Empfohlene Vorgehen Breath-First-Search:\n",
    "\n",
    "- Bauen Sie zuerst einen Dictionary mit allen Wörtern und ihrem Vorkommen (allWords) auf;\n",
    "- Dann identifizieren Sie die Single Items mit support > minsup;\n",
    "- Dann berechnen Sie nun die weiteren Multi Frequent Item Sets.\n",
    "\n",
    "Beachten Sie folgendes:\n",
    "\n",
    "- Sie können die jeweilige frequentItemSet (z.B. für 2 und 3 Einträge) in einer Liste, z.B. frequentItemSets, speichern\n",
    "- Schauen Sie, dass sie keine Duplikate speichern (Bsp: ['vox', 'news'] und ['news','vox'])\n",
    "- Nutzen Sie die containsAll Funktion der WordBaskets, um zu prüfen, ob es sich um ein Subset handelt.\n",
    "- Nutzen Sie die asserts weiter unten, um die Korrektheit ihrer Lösung zu prüfen.\n",
    "\n"
   ]
  },
  {
   "cell_type": "code",
   "execution_count": 5,
   "metadata": {
    "nbgrader": {
     "grade": true,
     "grade_id": "10",
     "locked": false,
     "points": 4,
     "solution": true
    }
   },
   "outputs": [],
   "source": [
    "def doFrequentItemsetsAnalysis ( queries, maxItemsetSize=3,minSupport=0.0018, debug=0) :\n",
    "\n",
    "    \"\"\" This function generates FrequentItemsets.  \n",
    "    \n",
    "        Arguments:\n",
    "        queries: The list of queries done by users\n",
    "        maxItemsetSize: The number of words per basked the caller is interested in\n",
    "        minSupport: the minimal support \n",
    "        debug: prints messages\n",
    "        \n",
    "        Returns:\n",
    "        frequentItemSets: A list of FrequentItemSets, one for each ItemSize (maxItemsetSize) \"\"\"\n",
    "        \n",
    "#---\n",
    "\n",
    "    if debug > 1: print( \"Associate each word with its counter...\")\n",
    "\n",
    "    ### BEGIN SOLUTION\n",
    "\n",
    "  \n",
    "        \n",
    "    ### END SOLUTION\n",
    "    \n",
    "    return frequentItemSets"
   ]
  },
  {
   "cell_type": "code",
   "execution_count": 6,
   "metadata": {
    "nbgrader": {
     "grade": false,
     "grade_id": "11",
     "locked": true,
     "solution": false
    }
   },
   "outputs": [
    {
     "name": "stdout",
     "output_type": "stream",
     "text": [
      "Total number of words: 20\n",
      "Number of SingleItemSets: 20\n",
      "['verizon']\n",
      "['wireless']\n",
      "['zip']\n",
      "['codes']\n",
      "['baby']\n",
      "['center']\n",
      "['people']\n",
      "['search']\n",
      "['national']\n",
      "['car']\n",
      "['rental']\n",
      "['home']\n",
      "['depot']\n",
      "['georgia']\n",
      "['state']\n",
      "['university']\n",
      "['best']\n",
      "['buy']\n",
      "['disney']\n",
      "['world']\n"
     ]
    }
   ],
   "source": [
    "# run doFrequentItemsetsAnalysis in debug mode\n",
    "frequentItemSets = doFrequentItemsetsAnalysis(queries,minSupport=0.05,debug=1)\n",
    "for words in frequentItemSets[0].keys():\n",
    "    print(words.words)\n",
    "#print( frequentItemSets[0].keys() )"
   ]
  },
  {
   "cell_type": "markdown",
   "metadata": {
    "nbgrader": {
     "grade": false,
     "grade_id": "13",
     "locked": true,
     "solution": false
    }
   },
   "source": [
    "Nachfolgend werden 5 Instanzen mit unterschiedlichen Grössen ausgeführt (Dauert ca. 5min). Sehen Sie sich das entstehende Diagramm an und notieren Sie die Komplexität ihrer Implementation. Stimmt dies mit dem Diagramm überein?"
   ]
  },
  {
   "cell_type": "code",
   "execution_count": 7,
   "metadata": {
    "nbgrader": {
     "grade": false,
     "grade_id": "15",
     "locked": true,
     "solution": false
    }
   },
   "outputs": [
    {
     "data": {
      "text/plain": [
       "Text(0, 0.5, 'seconds')"
      ]
     },
     "execution_count": 7,
     "metadata": {},
     "output_type": "execute_result"
    },
    {
     "data": {
      "image/png": "[encoded data removed]",
      "text/plain": [
       "<Figure size 432x288 with 1 Axes>"
      ]
     },
     "metadata": {
      "needs_background": "light"
     },
     "output_type": "display_data"
    }
   ],
   "source": [
    "test_cases=[10,50,100,200,300,400,1000,10000]\n",
    "test_results=[0,0,0,0,0,0,0,0]\n",
    "\n",
    "for x in range(len(test_cases)):\n",
    "    time1 = datetime.now()\n",
    "    queries = readQueries(test_cases[x])\n",
    "    frequentItemSets = doFrequentItemsetsAnalysis(queries)\n",
    "    time2 = datetime.now()\n",
    "    time_diff = time2 - time1\n",
    "    test_results[x]=time_diff.total_seconds()\n",
    "\n",
    "plt.figure()\n",
    "plt.plot(test_cases,test_results)\n",
    "plt.xlabel(u\"#Queries\")\n",
    "plt.ylabel(\"seconds\")"
   ]
  },
  {
   "cell_type": "code",
   "execution_count": 8,
   "metadata": {},
   "outputs": [
    {
     "data": {
      "text/plain": [
       "Text(0, 0.5, 'seconds')"
      ]
     },
     "execution_count": 8,
     "metadata": {},
     "output_type": "execute_result"
    },
    {
     "data": {
      "image/png": "[encoded data removed]",
      "text/plain": [
       "<Figure size 432x288 with 1 Axes>"
      ]
     },
     "metadata": {
      "needs_background": "light"
     },
     "output_type": "display_data"
    }
   ],
   "source": [
    "axes = plt.gca() # get current axes\n",
    "axes.set_yscale(\"log\")\n",
    "axes.set_xscale(\"log\")\n",
    "plt.plot(test_cases,test_results)\n",
    "plt.xlabel(u\"#Queries\")\n",
    "plt.ylabel(\"seconds\")"
   ]
  },
  {
   "cell_type": "code",
   "execution_count": 9,
   "metadata": {},
   "outputs": [],
   "source": [
    "# This library is useful for mining \n",
    "import mlxtend"
   ]
  },
  {
   "cell_type": "code",
   "execution_count": 10,
   "metadata": {},
   "outputs": [],
   "source": [
    "from mlxtend.preprocessing import TransactionEncoder\n",
    "from mlxtend.frequent_patterns import association_rules, apriori"
   ]
  },
  {
   "cell_type": "code",
   "execution_count": 11,
   "metadata": {},
   "outputs": [
    {
     "name": "stdout",
     "output_type": "stream",
     "text": [
      "['verizon', 'wireless']\n",
      "['zip', 'codes']\n",
      "['baby', 'center']\n",
      "['people', 'search']\n",
      "['national', 'car', 'rental']\n",
      "['home', 'depot']\n"
     ]
    }
   ],
   "source": [
    "queries = readQueries(100, listoflist=True)\n",
    "for i in range(6):\n",
    "       print(queries[i])"
   ]
  },
  {
   "cell_type": "code",
   "execution_count": 12,
   "metadata": {},
   "outputs": [
    {
     "data": {
      "text/plain": [
       "100"
      ]
     },
     "execution_count": 12,
     "metadata": {},
     "output_type": "execute_result"
    }
   ],
   "source": [
    "len(queries)"
   ]
  },
  {
   "cell_type": "code",
   "execution_count": 13,
   "metadata": {},
   "outputs": [],
   "source": [
    "te = TransactionEncoder()\n",
    "te_ary = te.fit(queries).transform(queries)\n",
    "df_ary = pd.DataFrame(te_ary, columns=te.columns_)"
   ]
  },
  {
   "cell_type": "code",
   "execution_count": 14,
   "metadata": {},
   "outputs": [
    {
     "data": {
      "text/html": [
       "<div>\n",
       "<style scoped>\n",
       "    .dataframe tbody tr th:only-of-type {\n",
       "        vertical-align: middle;\n",
       "    }\n",
       "\n",
       "    .dataframe tbody tr th {\n",
       "        vertical-align: top;\n",
       "    }\n",
       "\n",
       "    .dataframe thead th {\n",
       "        text-align: right;\n",
       "    }\n",
       "</style>\n",
       "<table border=\"1\" class=\"dataframe\">\n",
       "  <thead>\n",
       "    <tr style=\"text-align: right;\">\n",
       "      <th></th>\n",
       "      <th>american</th>\n",
       "      <th>aol</th>\n",
       "      <th>are</th>\n",
       "      <th>area</th>\n",
       "      <th>at</th>\n",
       "      <th>baby</th>\n",
       "      <th>bay</th>\n",
       "      <th>beach</th>\n",
       "      <th>best</th>\n",
       "      <th>birthday</th>\n",
       "      <th>...</th>\n",
       "      <th>west</th>\n",
       "      <th>western</th>\n",
       "      <th>when</th>\n",
       "      <th>white</th>\n",
       "      <th>wireless</th>\n",
       "      <th>work</th>\n",
       "      <th>world</th>\n",
       "      <th>yellow</th>\n",
       "      <th>you</th>\n",
       "      <th>zip</th>\n",
       "    </tr>\n",
       "  </thead>\n",
       "  <tbody>\n",
       "    <tr>\n",
       "      <td>0</td>\n",
       "      <td>False</td>\n",
       "      <td>False</td>\n",
       "      <td>False</td>\n",
       "      <td>False</td>\n",
       "      <td>False</td>\n",
       "      <td>False</td>\n",
       "      <td>False</td>\n",
       "      <td>False</td>\n",
       "      <td>False</td>\n",
       "      <td>False</td>\n",
       "      <td>...</td>\n",
       "      <td>False</td>\n",
       "      <td>False</td>\n",
       "      <td>False</td>\n",
       "      <td>False</td>\n",
       "      <td>True</td>\n",
       "      <td>False</td>\n",
       "      <td>False</td>\n",
       "      <td>False</td>\n",
       "      <td>False</td>\n",
       "      <td>False</td>\n",
       "    </tr>\n",
       "    <tr>\n",
       "      <td>1</td>\n",
       "      <td>False</td>\n",
       "      <td>False</td>\n",
       "      <td>False</td>\n",
       "      <td>False</td>\n",
       "      <td>False</td>\n",
       "      <td>False</td>\n",
       "      <td>False</td>\n",
       "      <td>False</td>\n",
       "      <td>False</td>\n",
       "      <td>False</td>\n",
       "      <td>...</td>\n",
       "      <td>False</td>\n",
       "      <td>False</td>\n",
       "      <td>False</td>\n",
       "      <td>False</td>\n",
       "      <td>False</td>\n",
       "      <td>False</td>\n",
       "      <td>False</td>\n",
       "      <td>False</td>\n",
       "      <td>False</td>\n",
       "      <td>True</td>\n",
       "    </tr>\n",
       "    <tr>\n",
       "      <td>2</td>\n",
       "      <td>False</td>\n",
       "      <td>False</td>\n",
       "      <td>False</td>\n",
       "      <td>False</td>\n",
       "      <td>False</td>\n",
       "      <td>True</td>\n",
       "      <td>False</td>\n",
       "      <td>False</td>\n",
       "      <td>False</td>\n",
       "      <td>False</td>\n",
       "      <td>...</td>\n",
       "      <td>False</td>\n",
       "      <td>False</td>\n",
       "      <td>False</td>\n",
       "      <td>False</td>\n",
       "      <td>False</td>\n",
       "      <td>False</td>\n",
       "      <td>False</td>\n",
       "      <td>False</td>\n",
       "      <td>False</td>\n",
       "      <td>False</td>\n",
       "    </tr>\n",
       "    <tr>\n",
       "      <td>3</td>\n",
       "      <td>False</td>\n",
       "      <td>False</td>\n",
       "      <td>False</td>\n",
       "      <td>False</td>\n",
       "      <td>False</td>\n",
       "      <td>False</td>\n",
       "      <td>False</td>\n",
       "      <td>False</td>\n",
       "      <td>False</td>\n",
       "      <td>False</td>\n",
       "      <td>...</td>\n",
       "      <td>False</td>\n",
       "      <td>False</td>\n",
       "      <td>False</td>\n",
       "      <td>False</td>\n",
       "      <td>False</td>\n",
       "      <td>False</td>\n",
       "      <td>False</td>\n",
       "      <td>False</td>\n",
       "      <td>False</td>\n",
       "      <td>False</td>\n",
       "    </tr>\n",
       "    <tr>\n",
       "      <td>4</td>\n",
       "      <td>False</td>\n",
       "      <td>False</td>\n",
       "      <td>False</td>\n",
       "      <td>False</td>\n",
       "      <td>False</td>\n",
       "      <td>False</td>\n",
       "      <td>False</td>\n",
       "      <td>False</td>\n",
       "      <td>False</td>\n",
       "      <td>False</td>\n",
       "      <td>...</td>\n",
       "      <td>False</td>\n",
       "      <td>False</td>\n",
       "      <td>False</td>\n",
       "      <td>False</td>\n",
       "      <td>False</td>\n",
       "      <td>False</td>\n",
       "      <td>False</td>\n",
       "      <td>False</td>\n",
       "      <td>False</td>\n",
       "      <td>False</td>\n",
       "    </tr>\n",
       "    <tr>\n",
       "      <td>...</td>\n",
       "      <td>...</td>\n",
       "      <td>...</td>\n",
       "      <td>...</td>\n",
       "      <td>...</td>\n",
       "      <td>...</td>\n",
       "      <td>...</td>\n",
       "      <td>...</td>\n",
       "      <td>...</td>\n",
       "      <td>...</td>\n",
       "      <td>...</td>\n",
       "      <td>...</td>\n",
       "      <td>...</td>\n",
       "      <td>...</td>\n",
       "      <td>...</td>\n",
       "      <td>...</td>\n",
       "      <td>...</td>\n",
       "      <td>...</td>\n",
       "      <td>...</td>\n",
       "      <td>...</td>\n",
       "      <td>...</td>\n",
       "      <td>...</td>\n",
       "    </tr>\n",
       "    <tr>\n",
       "      <td>95</td>\n",
       "      <td>False</td>\n",
       "      <td>False</td>\n",
       "      <td>False</td>\n",
       "      <td>False</td>\n",
       "      <td>False</td>\n",
       "      <td>False</td>\n",
       "      <td>False</td>\n",
       "      <td>False</td>\n",
       "      <td>False</td>\n",
       "      <td>False</td>\n",
       "      <td>...</td>\n",
       "      <td>False</td>\n",
       "      <td>False</td>\n",
       "      <td>False</td>\n",
       "      <td>False</td>\n",
       "      <td>False</td>\n",
       "      <td>False</td>\n",
       "      <td>False</td>\n",
       "      <td>False</td>\n",
       "      <td>False</td>\n",
       "      <td>False</td>\n",
       "    </tr>\n",
       "    <tr>\n",
       "      <td>96</td>\n",
       "      <td>False</td>\n",
       "      <td>False</td>\n",
       "      <td>False</td>\n",
       "      <td>False</td>\n",
       "      <td>False</td>\n",
       "      <td>False</td>\n",
       "      <td>False</td>\n",
       "      <td>False</td>\n",
       "      <td>False</td>\n",
       "      <td>False</td>\n",
       "      <td>...</td>\n",
       "      <td>False</td>\n",
       "      <td>False</td>\n",
       "      <td>False</td>\n",
       "      <td>False</td>\n",
       "      <td>False</td>\n",
       "      <td>False</td>\n",
       "      <td>False</td>\n",
       "      <td>False</td>\n",
       "      <td>False</td>\n",
       "      <td>False</td>\n",
       "    </tr>\n",
       "    <tr>\n",
       "      <td>97</td>\n",
       "      <td>False</td>\n",
       "      <td>False</td>\n",
       "      <td>False</td>\n",
       "      <td>False</td>\n",
       "      <td>False</td>\n",
       "      <td>False</td>\n",
       "      <td>False</td>\n",
       "      <td>False</td>\n",
       "      <td>False</td>\n",
       "      <td>False</td>\n",
       "      <td>...</td>\n",
       "      <td>False</td>\n",
       "      <td>False</td>\n",
       "      <td>False</td>\n",
       "      <td>False</td>\n",
       "      <td>False</td>\n",
       "      <td>False</td>\n",
       "      <td>False</td>\n",
       "      <td>False</td>\n",
       "      <td>False</td>\n",
       "      <td>False</td>\n",
       "    </tr>\n",
       "    <tr>\n",
       "      <td>98</td>\n",
       "      <td>False</td>\n",
       "      <td>False</td>\n",
       "      <td>False</td>\n",
       "      <td>False</td>\n",
       "      <td>False</td>\n",
       "      <td>False</td>\n",
       "      <td>False</td>\n",
       "      <td>False</td>\n",
       "      <td>False</td>\n",
       "      <td>False</td>\n",
       "      <td>...</td>\n",
       "      <td>False</td>\n",
       "      <td>False</td>\n",
       "      <td>False</td>\n",
       "      <td>False</td>\n",
       "      <td>False</td>\n",
       "      <td>False</td>\n",
       "      <td>False</td>\n",
       "      <td>False</td>\n",
       "      <td>False</td>\n",
       "      <td>False</td>\n",
       "    </tr>\n",
       "    <tr>\n",
       "      <td>99</td>\n",
       "      <td>False</td>\n",
       "      <td>False</td>\n",
       "      <td>False</td>\n",
       "      <td>False</td>\n",
       "      <td>False</td>\n",
       "      <td>False</td>\n",
       "      <td>False</td>\n",
       "      <td>False</td>\n",
       "      <td>False</td>\n",
       "      <td>False</td>\n",
       "      <td>...</td>\n",
       "      <td>False</td>\n",
       "      <td>False</td>\n",
       "      <td>False</td>\n",
       "      <td>False</td>\n",
       "      <td>False</td>\n",
       "      <td>False</td>\n",
       "      <td>False</td>\n",
       "      <td>False</td>\n",
       "      <td>False</td>\n",
       "      <td>False</td>\n",
       "    </tr>\n",
       "  </tbody>\n",
       "</table>\n",
       "<p>100 rows × 117 columns</p>\n",
       "</div>"
      ],
      "text/plain": [
       "    american    aol    are   area     at   baby    bay  beach   best  \\\n",
       "0      False  False  False  False  False  False  False  False  False   \n",
       "1      False  False  False  False  False  False  False  False  False   \n",
       "2      False  False  False  False  False   True  False  False  False   \n",
       "3      False  False  False  False  False  False  False  False  False   \n",
       "4      False  False  False  False  False  False  False  False  False   \n",
       "..       ...    ...    ...    ...    ...    ...    ...    ...    ...   \n",
       "95     False  False  False  False  False  False  False  False  False   \n",
       "96     False  False  False  False  False  False  False  False  False   \n",
       "97     False  False  False  False  False  False  False  False  False   \n",
       "98     False  False  False  False  False  False  False  False  False   \n",
       "99     False  False  False  False  False  False  False  False  False   \n",
       "\n",
       "    birthday  ...   west  western   when  white  wireless   work  world  \\\n",
       "0      False  ...  False    False  False  False      True  False  False   \n",
       "1      False  ...  False    False  False  False     False  False  False   \n",
       "2      False  ...  False    False  False  False     False  False  False   \n",
       "3      False  ...  False    False  False  False     False  False  False   \n",
       "4      False  ...  False    False  False  False     False  False  False   \n",
       "..       ...  ...    ...      ...    ...    ...       ...    ...    ...   \n",
       "95     False  ...  False    False  False  False     False  False  False   \n",
       "96     False  ...  False    False  False  False     False  False  False   \n",
       "97     False  ...  False    False  False  False     False  False  False   \n",
       "98     False  ...  False    False  False  False     False  False  False   \n",
       "99     False  ...  False    False  False  False     False  False  False   \n",
       "\n",
       "    yellow    you    zip  \n",
       "0    False  False  False  \n",
       "1    False  False   True  \n",
       "2    False  False  False  \n",
       "3    False  False  False  \n",
       "4    False  False  False  \n",
       "..     ...    ...    ...  \n",
       "95   False  False  False  \n",
       "96   False  False  False  \n",
       "97   False  False  False  \n",
       "98   False  False  False  \n",
       "99   False  False  False  \n",
       "\n",
       "[100 rows x 117 columns]"
      ]
     },
     "execution_count": 14,
     "metadata": {},
     "output_type": "execute_result"
    }
   ],
   "source": [
    "df_ary"
   ]
  },
  {
   "cell_type": "code",
   "execution_count": 15,
   "metadata": {},
   "outputs": [
    {
     "data": {
      "text/html": [
       "<div>\n",
       "<style scoped>\n",
       "    .dataframe tbody tr th:only-of-type {\n",
       "        vertical-align: middle;\n",
       "    }\n",
       "\n",
       "    .dataframe tbody tr th {\n",
       "        vertical-align: top;\n",
       "    }\n",
       "\n",
       "    .dataframe thead th {\n",
       "        text-align: right;\n",
       "    }\n",
       "</style>\n",
       "<table border=\"1\" class=\"dataframe\">\n",
       "  <thead>\n",
       "    <tr style=\"text-align: right;\">\n",
       "      <th></th>\n",
       "      <th>antecedents</th>\n",
       "      <th>consequents</th>\n",
       "      <th>support</th>\n",
       "      <th>confidence</th>\n",
       "      <th>lift</th>\n",
       "    </tr>\n",
       "  </thead>\n",
       "  <tbody>\n",
       "    <tr>\n",
       "      <td>0</td>\n",
       "      <td>(idol)</td>\n",
       "      <td>(american)</td>\n",
       "      <td>0.02</td>\n",
       "      <td>1.000000</td>\n",
       "      <td>50.000000</td>\n",
       "    </tr>\n",
       "    <tr>\n",
       "      <td>809</td>\n",
       "      <td>(on, at)</td>\n",
       "      <td>(jobs, work)</td>\n",
       "      <td>0.01</td>\n",
       "      <td>1.000000</td>\n",
       "      <td>100.000000</td>\n",
       "    </tr>\n",
       "    <tr>\n",
       "      <td>818</td>\n",
       "      <td>(line, work, at)</td>\n",
       "      <td>(on)</td>\n",
       "      <td>0.01</td>\n",
       "      <td>1.000000</td>\n",
       "      <td>100.000000</td>\n",
       "    </tr>\n",
       "    <tr>\n",
       "      <td>817</td>\n",
       "      <td>(on, line, work)</td>\n",
       "      <td>(at)</td>\n",
       "      <td>0.01</td>\n",
       "      <td>1.000000</td>\n",
       "      <td>50.000000</td>\n",
       "    </tr>\n",
       "    <tr>\n",
       "      <td>816</td>\n",
       "      <td>(on, line, at)</td>\n",
       "      <td>(work)</td>\n",
       "      <td>0.01</td>\n",
       "      <td>1.000000</td>\n",
       "      <td>25.000000</td>\n",
       "    </tr>\n",
       "    <tr>\n",
       "      <td>...</td>\n",
       "      <td>...</td>\n",
       "      <td>...</td>\n",
       "      <td>...</td>\n",
       "      <td>...</td>\n",
       "      <td>...</td>\n",
       "    </tr>\n",
       "    <tr>\n",
       "      <td>536</td>\n",
       "      <td>(home)</td>\n",
       "      <td>(jobs, work)</td>\n",
       "      <td>0.01</td>\n",
       "      <td>0.125000</td>\n",
       "      <td>12.500000</td>\n",
       "    </tr>\n",
       "    <tr>\n",
       "      <td>744</td>\n",
       "      <td>(home)</td>\n",
       "      <td>(on, line, at)</td>\n",
       "      <td>0.01</td>\n",
       "      <td>0.125000</td>\n",
       "      <td>12.500000</td>\n",
       "    </tr>\n",
       "    <tr>\n",
       "      <td>927</td>\n",
       "      <td>(home)</td>\n",
       "      <td>(jobs, on, line)</td>\n",
       "      <td>0.01</td>\n",
       "      <td>0.125000</td>\n",
       "      <td>12.500000</td>\n",
       "    </tr>\n",
       "    <tr>\n",
       "      <td>771</td>\n",
       "      <td>(home)</td>\n",
       "      <td>(on, at, work)</td>\n",
       "      <td>0.01</td>\n",
       "      <td>0.125000</td>\n",
       "      <td>12.500000</td>\n",
       "    </tr>\n",
       "    <tr>\n",
       "      <td>217</td>\n",
       "      <td>(pages)</td>\n",
       "      <td>(web)</td>\n",
       "      <td>0.01</td>\n",
       "      <td>0.083333</td>\n",
       "      <td>4.166667</td>\n",
       "    </tr>\n",
       "  </tbody>\n",
       "</table>\n",
       "<p>1300 rows × 5 columns</p>\n",
       "</div>"
      ],
      "text/plain": [
       "          antecedents       consequents  support  confidence        lift\n",
       "0              (idol)        (american)     0.02    1.000000   50.000000\n",
       "809          (on, at)      (jobs, work)     0.01    1.000000  100.000000\n",
       "818  (line, work, at)              (on)     0.01    1.000000  100.000000\n",
       "817  (on, line, work)              (at)     0.01    1.000000   50.000000\n",
       "816    (on, line, at)            (work)     0.01    1.000000   25.000000\n",
       "..                ...               ...      ...         ...         ...\n",
       "536            (home)      (jobs, work)     0.01    0.125000   12.500000\n",
       "744            (home)    (on, line, at)     0.01    0.125000   12.500000\n",
       "927            (home)  (jobs, on, line)     0.01    0.125000   12.500000\n",
       "771            (home)    (on, at, work)     0.01    0.125000   12.500000\n",
       "217           (pages)             (web)     0.01    0.083333    4.166667\n",
       "\n",
       "[1300 rows x 5 columns]"
      ]
     },
     "execution_count": 15,
     "metadata": {},
     "output_type": "execute_result"
    }
   ],
   "source": [
    "frequent_itemsets = apriori(df_ary, min_support=0.01, use_colnames=True)\n",
    "rules = association_rules(frequent_itemsets, metric='lift', min_threshold=1.0)\n",
    "\n",
    "# Nur die 'support', 'confidence', 'lift' Spalten anzeigen\n",
    "result = rules[['antecedents', 'consequents', 'support', 'confidence', 'lift']]\n",
    "result.sort_values('confidence', ascending=False)\n",
    "\n",
    "# alles anzeigen\n",
    "# rules.sort_values('confidence', ascending=False)"
   ]
  },
  {
   "cell_type": "code",
   "execution_count": 16,
   "metadata": {},
   "outputs": [
    {
     "data": {
      "text/html": [
       "<div>\n",
       "<style scoped>\n",
       "    .dataframe tbody tr th:only-of-type {\n",
       "        vertical-align: middle;\n",
       "    }\n",
       "\n",
       "    .dataframe tbody tr th {\n",
       "        vertical-align: top;\n",
       "    }\n",
       "\n",
       "    .dataframe thead th {\n",
       "        text-align: right;\n",
       "    }\n",
       "</style>\n",
       "<table border=\"1\" class=\"dataframe\">\n",
       "  <thead>\n",
       "    <tr style=\"text-align: right;\">\n",
       "      <th></th>\n",
       "      <th>support</th>\n",
       "      <th>itemsets</th>\n",
       "    </tr>\n",
       "  </thead>\n",
       "  <tbody>\n",
       "    <tr>\n",
       "      <td>0</td>\n",
       "      <td>0.02</td>\n",
       "      <td>(american)</td>\n",
       "    </tr>\n",
       "    <tr>\n",
       "      <td>1</td>\n",
       "      <td>0.08</td>\n",
       "      <td>(aol)</td>\n",
       "    </tr>\n",
       "    <tr>\n",
       "      <td>2</td>\n",
       "      <td>0.02</td>\n",
       "      <td>(are)</td>\n",
       "    </tr>\n",
       "    <tr>\n",
       "      <td>3</td>\n",
       "      <td>0.01</td>\n",
       "      <td>(area)</td>\n",
       "    </tr>\n",
       "    <tr>\n",
       "      <td>4</td>\n",
       "      <td>0.02</td>\n",
       "      <td>(at)</td>\n",
       "    </tr>\n",
       "    <tr>\n",
       "      <td>...</td>\n",
       "      <td>...</td>\n",
       "      <td>...</td>\n",
       "    </tr>\n",
       "    <tr>\n",
       "      <td>340</td>\n",
       "      <td>0.01</td>\n",
       "      <td>(on, at, home, line, work)</td>\n",
       "    </tr>\n",
       "    <tr>\n",
       "      <td>341</td>\n",
       "      <td>0.01</td>\n",
       "      <td>(jobs, on, at, line, work)</td>\n",
       "    </tr>\n",
       "    <tr>\n",
       "      <td>342</td>\n",
       "      <td>0.01</td>\n",
       "      <td>(post, county, beach, palm, times)</td>\n",
       "    </tr>\n",
       "    <tr>\n",
       "      <td>343</td>\n",
       "      <td>0.01</td>\n",
       "      <td>(jobs, on, home, line, work)</td>\n",
       "    </tr>\n",
       "    <tr>\n",
       "      <td>344</td>\n",
       "      <td>0.01</td>\n",
       "      <td>(jobs, on, at, home, line, work)</td>\n",
       "    </tr>\n",
       "  </tbody>\n",
       "</table>\n",
       "<p>345 rows × 2 columns</p>\n",
       "</div>"
      ],
      "text/plain": [
       "     support                            itemsets\n",
       "0       0.02                          (american)\n",
       "1       0.08                               (aol)\n",
       "2       0.02                               (are)\n",
       "3       0.01                              (area)\n",
       "4       0.02                                (at)\n",
       "..       ...                                 ...\n",
       "340     0.01          (on, at, home, line, work)\n",
       "341     0.01          (jobs, on, at, line, work)\n",
       "342     0.01  (post, county, beach, palm, times)\n",
       "343     0.01        (jobs, on, home, line, work)\n",
       "344     0.01    (jobs, on, at, home, line, work)\n",
       "\n",
       "[345 rows x 2 columns]"
      ]
     },
     "execution_count": 16,
     "metadata": {},
     "output_type": "execute_result"
    }
   ],
   "source": [
    "frequent_itemsets"
   ]
  },
  {
   "cell_type": "code",
   "execution_count": null,
   "metadata": {},
   "outputs": [],
   "source": []
  }
 ],
 "metadata": {
  "celltoolbar": "Create Assignment",
  "kernelspec": {
   "display_name": "Python 3",
   "language": "python",
   "name": "python3"
  },
  "language_info": {
   "codemirror_mode": {
    "name": "ipython",
    "version": 3
   },
   "file_extension": ".py",
   "mimetype": "text/x-python",
   "name": "python",
   "nbconvert_exporter": "python",
   "pygments_lexer": "ipython3",
   "version": "3.7.4"
  }
 },
 "nbformat": 4,
 "nbformat_minor": 1
}
